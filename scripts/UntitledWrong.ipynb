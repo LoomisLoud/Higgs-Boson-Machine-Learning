{
 "cells": [
  {
   "cell_type": "code",
   "execution_count": 1,
   "metadata": {
    "collapsed": false
   },
   "outputs": [],
   "source": [
    "# Useful starting lines\n",
    "%matplotlib inline\n",
    "import numpy as np\n",
    "import matplotlib.pyplot as plt\n",
    "import time\n",
    "%load_ext autoreload\n",
    "%autoreload 2"
   ]
  },
  {
   "cell_type": "code",
   "execution_count": 2,
   "metadata": {
    "collapsed": false
   },
   "outputs": [],
   "source": [
    "start = time.time()\n",
    "from proj1_helpers import *\n",
    "DATA_TRAIN_PATH = 'train.csv' # TODO: download train data and supply path here \n",
    "y, tX, ids = load_csv_data(DATA_TRAIN_PATH)\n"
   ]
  },
  {
   "cell_type": "code",
   "execution_count": 3,
   "metadata": {
    "collapsed": true
   },
   "outputs": [],
   "source": [
    "def split_data(x, y, ratio,seed=1):\n",
    "    \"\"\"split the dataset based on the split ratio.\"\"\"\n",
    "    # set seed\n",
    "    np.random.seed(seed)\n",
    "    # ***************************************************\n",
    "    # INSERT YOUR CODE HERE\n",
    "    # split the data based on the given ratio: TODO\n",
    "    # ***************************************************\n",
    "    indices = np.random.permutation(x.shape[0])\n",
    "    training_ratio = int(np.floor(ratio * x.shape[0]))\n",
    "\n",
    "    x_training = x[indices[0:training_ratio]]\n",
    "    y_training = y[indices[0:training_ratio]]\n",
    "    x_testing = x[indices[training_ratio:]]\n",
    "    y_testing = y[indices[training_ratio:]]\n",
    "    \n",
    "    return x_training, x_testing, y_training, y_testing"
   ]
  },
  {
   "cell_type": "code",
   "execution_count": 4,
   "metadata": {
    "collapsed": false
   },
   "outputs": [
    {
     "name": "stdout",
     "output_type": "stream",
     "text": [
      "Creating indices...\n",
      "Computing first degree...\n",
      "Computing second degree with combinations...\n",
      "Computing from degree 3 to 10 without combinations...\n",
      "Computing third degree with some combinations...\n"
     ]
    }
   ],
   "source": [
    "# Removing bothering data and centering\n",
    "tX[tX==-999] = 0\n",
    "m = np.mean(tX, axis=0)\n",
    "centered_tX = tX - m\n",
    "\n",
    "centered_tX[centered_tX==0] = float('nan')\n",
    "stdevtrain = np.nanstd(centered_tX, axis=0)\n",
    "centered_tX[centered_tX==float('nan')] = 0\n",
    "standardized_tX = centered_tX / stdevtrain\n",
    "\n",
    "d = len(standardized_tX[0])\n",
    "n = len(standardized_tX)\n",
    "\n",
    "indices_s_deg = []\n",
    "indices_t_deg = []\n",
    "\n",
    "print(\"Creating indices...\")\n",
    "# Creating indices for subsets of degree 2\n",
    "for i in range (d):\n",
    "    for t in range (i,d):\n",
    "        indices_s_deg.append([t, i])\n",
    "indices_s_deg = np.array(indices_s_deg).T\n",
    "\n",
    "# Creating indices for subsets of degree 3\n",
    "max_t_degree = 2\n",
    "for i in range (max_t_degree):\n",
    "    for t in range (i,max_t_degree):\n",
    "        for j in range(t,max_t_degree):\n",
    "            if not (i == t and i == j):\n",
    "                indices_t_deg.append([j, t, i])\n",
    "indices_t_deg = np.array(indices_t_deg).T\n",
    "\n",
    "degrees = range(3,11)\n",
    "degrees_number = len(degrees) + 1\n",
    "stdX_Ncols = standardized_tX.shape[1]\n",
    "indices_s_Ncols = indices_s_deg.shape[1]\n",
    "indices_t_Ncols = indices_t_deg.shape[1]\n",
    "\n",
    "number_of_rows = indices_s_Ncols + degrees_number * stdX_Ncols + indices_t_Ncols\n",
    "\n",
    "mat = np.zeros((n, number_of_rows))\n",
    "\n",
    "print(\"Computing first degree...\")\n",
    "# First degree\n",
    "mat[:, :stdX_Ncols] = standardized_tX\n",
    "\n",
    "print(\"Computing second degree with combinations...\")\n",
    "# Second degree gotten from indices\n",
    "mat[:,stdX_Ncols:stdX_Ncols + indices_s_Ncols] = standardized_tX[:, indices_s_deg[0]] * standardized_tX[:, indices_s_deg[1]]\n",
    "\n",
    "print(\"Computing from degree 3 to 10 without combinations...\")\n",
    "# Improve 3 to 10 degree\n",
    "for i in degrees:\n",
    "    start_index = indices_s_Ncols + (i - 2) * stdX_Ncols\n",
    "    end_index = start_index + stdX_Ncols\n",
    "    mat[:,start_index:end_index] = standardized_tX**i\n",
    "    \n",
    "print(\"Computing third degree with some combinations...\")\n",
    "# Third degree gotten from indices\n",
    "mat[:, number_of_rows - indices_t_Ncols: number_of_rows] = standardized_tX[:, indices_t_deg[0]] * standardized_tX[:, indices_t_deg[1]] * standardized_tX[:, indices_t_deg[2]]"
   ]
  },
  {
   "cell_type": "code",
   "execution_count": 5,
   "metadata": {
    "collapsed": true
   },
   "outputs": [],
   "source": [
    "# Centering again\n",
    "m2 = np.mean(mat, axis=0)\n",
    "centered_mat = mat - m2\n",
    "centered_mat[mat==0] = 0\n",
    "\n",
    "centered_mat[centered_mat==0] = float('nan')\n",
    "stdev = np.nanstd(centered_mat, axis=0)\n",
    "centered_mat[centered_mat==float('nan')] = 0\n",
    "standardized_mat = centered_mat / stdev"
   ]
  },
  {
   "cell_type": "code",
   "execution_count": 6,
   "metadata": {
    "collapsed": false
   },
   "outputs": [],
   "source": [
    "num_samples = len(standardized_mat)\n",
    "tx = np.c_[np.ones(num_samples), standardized_mat]\n",
    "#y=list(y)\n",
    "#y[y==-1]=0"
   ]
  },
  {
   "cell_type": "code",
   "execution_count": 7,
   "metadata": {
    "collapsed": true
   },
   "outputs": [],
   "source": [
    "def compute_loss(y, tx, w):\n",
    "    \"\"\"Calculate the loss.\n",
    "    \n",
    "    You can calculate the loss using mse or mae.\n",
    "    \"\"\"\n",
    "    e = y - np.dot(tx, w)\n",
    "    mse = np.dot(e.transpose(), e) / (2 * len(tx))\n",
    "    return mse"
   ]
  },
  {
   "cell_type": "code",
   "execution_count": 8,
   "metadata": {
    "collapsed": false
   },
   "outputs": [],
   "source": [
    "tX, testx, y, testy = split_data(tx, y, 0.8, seed=1)"
   ]
  },
  {
   "cell_type": "code",
   "execution_count": 9,
   "metadata": {
    "collapsed": false
   },
   "outputs": [],
   "source": [
    "from __future__ import division\n",
    "import numpy as np \n",
    "def logistic(a):\n",
    "    return 1.0 / (1 + np.exp(-a))\n",
    "def irls(X, y):\n",
    "    theta = np.zeros(X.shape[1])\n",
    "    theta_ = np.inf\n",
    "    eps = 60000\n",
    "    lamda = 5\n",
    "    for aqua in range (11):\n",
    "        grad = np.zeros(X.shape[1])\n",
    "        a = np.dot(X, theta)\n",
    "        #a=math.log10(abs(a))*sign(a)\n",
    "        #print(min(a),max(a))\n",
    "        pi = logistic(a)        \n",
    "        SX = X * (pi - pi*pi).reshape(-1, 1)\n",
    "        XSX = np.dot(X.T, SX)\n",
    "        del(SX)\n",
    "        #+lamda*np.eye((len(X[0])))\n",
    "        for aw in range (len(X)):\n",
    "            grad = grad + (-1 / len(X)) * (y[aw] * X[aw, :] * logistic(-y[aw] * np.dot(X[aw,:], theta)))\n",
    "        \n",
    "        \n",
    "     \n",
    "        theta = theta - eps * np.linalg.solve(XSX, grad)\n",
    "        print(sum(y == np.sign(np.dot(X, theta))) / len(y))\n",
    "       \n",
    "        if aqua % 5 == 0 and aqua != 0:\n",
    "            eps = eps * 0.8\n",
    "    return theta"
   ]
  },
  {
   "cell_type": "code",
   "execution_count": 10,
   "metadata": {
    "collapsed": false
   },
   "outputs": [
    {
     "name": "stdout",
     "output_type": "stream",
     "text": [
      "Freeing memory\n",
      "[('create_csv_submission', 21), ('degrees_number', 14), ('predict_labels', 14), ('number_of_rows', 14), ('load_csv_data', 13), ('__builtins__', 12), ('max_t_degree', 12), ('compute_loss', 12), ('num_samples', 11), ('__builtin__', 11), ('start_index', 11), ('split_data', 10), ('stdevtrain', 10), ('end_index', 9), ('logistic', 8), ('division', 8), ('degrees', 7), ('start', 5), ('irls', 4), ('_iii', 4), ('time', 4), ('quit', 4), ('_i10', 4), ('exit', 4), ('_i3', 3), ('plt', 3), ('_i8', 3), ('_i7', 3), ('_dh', 3), ('_i2', 3), ('___', 3), ('_ih', 3), ('_i1', 3), ('_oh', 3), ('_sh', 3), ('_i6', 3), ('csv', 3), ('_ii', 3), ('Out', 3), ('_i5', 3), ('_i9', 3), ('_i4', 3), ('In', 2), ('__', 2), ('tx', 2), ('np', 2), ('tX', 2), ('m2', 2), ('_i', 2), ('i', 1), ('n', 1), ('m', 1), ('j', 1), ('_', 1), ('t', 1), ('y', 1), ('d', 1)]\n"
     ]
    }
   ],
   "source": [
    "print(\"Freeing memory\")\n",
    "del(centered_mat, centered_tX, standardized_mat, standardized_tX, stdX_Ncols)\n",
    "del(indices_s_deg, indices_s_Ncols, indices_t_deg, indices_t_Ncols)\n",
    "del(mat, DATA_TRAIN_PATH, ids, stdev, testx, testy)\n",
    "\n",
    "lens = [(x,len(x)) for x in set(dir()) - set(dir(__builtins__))]\n",
    "testout = sorted(lens, key=lambda l: l[1])\n",
    "print(testout[::-1])"
   ]
  },
  {
   "cell_type": "code",
   "execution_count": 11,
   "metadata": {
    "collapsed": false
   },
   "outputs": [
    {
     "name": "stdout",
     "output_type": "stream",
     "text": [
      "0.826105\n",
      "0.82726\n",
      "0.828775\n",
      "0.82999\n",
      "0.83154\n",
      "0.8327\n",
      "0.83368\n",
      "0.8346\n"
     ]
    },
    {
     "name": "stderr",
     "output_type": "stream",
     "text": [
      "/home/romain/.local/lib/python3.5/site-packages/ipykernel/__main__.py:4: RuntimeWarning: overflow encountered in exp\n"
     ]
    },
    {
     "name": "stdout",
     "output_type": "stream",
     "text": [
      "0.835045\n",
      "0.83548\n",
      "0.83587\n"
     ]
    }
   ],
   "source": [
    "weights=irls(tX,y)"
   ]
  },
  {
   "cell_type": "code",
   "execution_count": 12,
   "metadata": {
    "collapsed": false
   },
   "outputs": [
    {
     "name": "stdout",
     "output_type": "stream",
     "text": [
      "Freeing memory\n"
     ]
    }
   ],
   "source": [
    "print(\"Freeing memory\")\n",
    "del(y, tX)"
   ]
  },
  {
   "cell_type": "code",
   "execution_count": 13,
   "metadata": {
    "collapsed": false
   },
   "outputs": [],
   "source": [
    "DATA_TEST_PATH = 'test.csv' # TODO: download train data and supply path here \n",
    "_, tX_test, ids_test = load_csv_data(DATA_TEST_PATH)"
   ]
  },
  {
   "cell_type": "code",
   "execution_count": 14,
   "metadata": {
    "collapsed": false
   },
   "outputs": [
    {
     "name": "stdout",
     "output_type": "stream",
     "text": [
      "(738,)\n",
      "(568238, 30)\n",
      "Creating indices...\n",
      "Computing first degree...\n",
      "Computing second degree with combinations...\n",
      "Computing from degree 3 to 10 without combinations...\n",
      "Computing third degree with some combinations...\n",
      "Freeing memory\n",
      "[('create_csv_submission', 21), ('degrees_number', 14), ('predict_labels', 14), ('number_of_rows', 14), ('load_csv_data', 13), ('__builtins__', 12), ('centered_mat', 12), ('max_t_degree', 12), ('compute_loss', 12), ('num_samples', 11), ('__builtin__', 11), ('start_index', 11), ('split_data', 10), ('stdevtrain', 10), ('end_index', 9), ('logistic', 8), ('division', 8), ('ids_test', 8), ('tX_test', 7), ('degrees', 7), ('weights', 7), ('testout', 7), ('start', 5), ('irls', 4), ('_i12', 4), ('_iii', 4), ('time', 4), ('lens', 4), ('quit', 4), ('_i11', 4), ('_i14', 4), ('_i10', 4), ('exit', 4), ('_i13', 4), ('_i3', 3), ('plt', 3), ('_i8', 3), ('_i7', 3), ('_dh', 3), ('_i2', 3), ('___', 3), ('_ih', 3), ('_i1', 3), ('_oh', 3), ('_sh', 3), ('_i6', 3), ('csv', 3), ('_ii', 3), ('Out', 3), ('_i5', 3), ('_i9', 3), ('_i4', 3), ('In', 2), ('__', 2), ('tx', 2), ('np', 2), ('m2', 2), ('_i', 2), ('i', 1), ('n', 1), ('m', 1), ('j', 1), ('_', 1), ('t', 1), ('d', 1)]\n",
      "Freeing memory\n"
     ]
    }
   ],
   "source": [
    "testx = tX_test\n",
    "print(weights.shape)\n",
    "print(testx.shape)\n",
    "testx[testx==-999] = 0\n",
    "centered_testx = testx - m\n",
    "centered_testx[testx==-999] = 0\n",
    "standardized_testx = centered_testx / stdevtrain\n",
    "\n",
    "d = len(standardized_testx[0])\n",
    "n = len(standardized_testx)\n",
    "\n",
    "indices_s_deg = []\n",
    "indices_t_deg = []\n",
    "\n",
    "print(\"Creating indices...\")\n",
    "# Creating indices for subsets of degree 2\n",
    "for i in range (d):\n",
    "    for t in range (i,d):\n",
    "        indices_s_deg.append([t, i])\n",
    "indices_s_deg = np.array(indices_s_deg).T\n",
    "\n",
    "# Creating indices for subsets of degree 3\n",
    "max_t_degree = 11\n",
    "for i in range (max_t_degree):\n",
    "    for t in range (i,max_t_degree):\n",
    "        for j in range(t,max_t_degree):\n",
    "            if not (i == t and i == j):\n",
    "                indices_t_deg.append([j, t, i])\n",
    "indices_t_deg = np.array(indices_t_deg).T\n",
    "\n",
    "degrees = range(3,11)\n",
    "degrees_number = len(degrees) + 1\n",
    "stdX_Ncols = standardized_testx.shape[1]\n",
    "indices_s_Ncols = indices_s_deg.shape[1]\n",
    "indices_t_Ncols = indices_t_deg.shape[1]\n",
    "\n",
    "number_of_rows = indices_s_Ncols + degrees_number * stdX_Ncols + indices_t_Ncols\n",
    "\n",
    "mat = np.zeros((n, number_of_rows))\n",
    "\n",
    "print(\"Computing first degree...\")\n",
    "# First degree\n",
    "mat[:, :stdX_Ncols] = standardized_testx\n",
    "\n",
    "print(\"Computing second degree with combinations...\")\n",
    "# Second degree gotten from indices\n",
    "mat[:,stdX_Ncols:stdX_Ncols + indices_s_Ncols] = standardized_testx[:, indices_s_deg[0]] * standardized_testx[:, indices_s_deg[1]]\n",
    "\n",
    "print(\"Computing from degree 3 to 10 without combinations...\")\n",
    "# Improve 3 to 10 degree\n",
    "for i in degrees:\n",
    "    start_index = indices_s_Ncols + (i - 2) * stdX_Ncols\n",
    "    end_index = start_index + stdX_Ncols\n",
    "    mat[:,start_index:end_index] = standardized_testx**i\n",
    "    \n",
    "print(\"Computing third degree with some combinations...\")\n",
    "# Third degree gotten from indices\n",
    "mat[:, number_of_rows - indices_t_Ncols: number_of_rows] = standardized_testx[:, indices_t_deg[0]] * standardized_testx[:, indices_t_deg[1]] * standardized_testx[:, indices_t_deg[2]]  \n",
    "\n",
    "m2 = np.mean(mat, axis=0)\n",
    "centered_mat = mat - m2\n",
    "centered_mat[mat==0] = 0\n",
    "\n",
    "print(\"Freeing memory\")\n",
    "del(standardized_testx, stdX_Ncols)\n",
    "del(indices_s_deg, indices_s_Ncols, indices_t_deg, indices_t_Ncols)\n",
    "del(mat, DATA_TEST_PATH, testx, centered_testx)\n",
    "\n",
    "lens = [(x,len(x)) for x in set(dir()) - set(dir(__builtins__))]\n",
    "testout = sorted(lens, key=lambda l: l[1])\n",
    "print(testout[::-1])\n",
    "\n",
    "centered_mat[centered_mat==0]=float('nan')\n",
    "stdev=np.nanstd(centered_mat,axis=0)\n",
    "centered_mat[centered_mat==float('nan')]=0\n",
    "standardized_testmat = centered_mat / stdev\n",
    "\n",
    "print(\"Freeing memory\")\n",
    "del(centered_mat, stdev)\n",
    "\n",
    "num_samples = len(standardized_testmat)\n",
    "final_testx = np.c_[np.ones(num_samples), standardized_testmat]"
   ]
  },
  {
   "cell_type": "code",
   "execution_count": 15,
   "metadata": {
    "collapsed": false
   },
   "outputs": [
    {
     "ename": "ValueError",
     "evalue": "shapes (568238,1011) and (738,) not aligned: 1011 (dim 1) != 738 (dim 0)",
     "output_type": "error",
     "traceback": [
      "\u001b[0;31m---------------------------------------------------------------------------\u001b[0m",
      "\u001b[0;31mValueError\u001b[0m                                Traceback (most recent call last)",
      "\u001b[0;32m<ipython-input-15-aeda89410f62>\u001b[0m in \u001b[0;36m<module>\u001b[0;34m()\u001b[0m\n\u001b[1;32m      1\u001b[0m \u001b[0mOUTPUT_PATH\u001b[0m \u001b[0;34m=\u001b[0m \u001b[0;34m'deneme8.csv'\u001b[0m \u001b[0;31m# TODO: fill in desired name of output file for submission\u001b[0m\u001b[0;34m\u001b[0m\u001b[0m\n\u001b[0;32m----> 2\u001b[0;31m \u001b[0my_pred\u001b[0m \u001b[0;34m=\u001b[0m \u001b[0;34m-\u001b[0m\u001b[0mpredict_labels\u001b[0m\u001b[0;34m(\u001b[0m\u001b[0mweights\u001b[0m\u001b[0;34m,\u001b[0m \u001b[0mfinal_testx\u001b[0m\u001b[0;34m)\u001b[0m\u001b[0;34m\u001b[0m\u001b[0m\n\u001b[0m\u001b[1;32m      3\u001b[0m \u001b[0mcreate_csv_submission\u001b[0m\u001b[0;34m(\u001b[0m\u001b[0mids_test\u001b[0m\u001b[0;34m,\u001b[0m \u001b[0my_pred\u001b[0m\u001b[0;34m,\u001b[0m \u001b[0mOUTPUT_PATH\u001b[0m\u001b[0;34m)\u001b[0m\u001b[0;34m\u001b[0m\u001b[0m\n",
      "\u001b[0;32m/home/romain/OfficialShit/Etudes/EPFL-Cours-Horaires/Cours_Semestres/Semester-MA1/PCML/pcml_project1/scripts/proj1_helpers.py\u001b[0m in \u001b[0;36mpredict_labels\u001b[0;34m(weights, data)\u001b[0m\n\u001b[1;32m     27\u001b[0m \u001b[0;32mdef\u001b[0m \u001b[0mpredict_labels\u001b[0m\u001b[0;34m(\u001b[0m\u001b[0mweights\u001b[0m\u001b[0;34m,\u001b[0m \u001b[0mdata\u001b[0m\u001b[0;34m)\u001b[0m\u001b[0;34m:\u001b[0m\u001b[0;34m\u001b[0m\u001b[0m\n\u001b[1;32m     28\u001b[0m     \u001b[0;34m\"\"\"Generates class predictions given weights, and a test data matrix\"\"\"\u001b[0m\u001b[0;34m\u001b[0m\u001b[0m\n\u001b[0;32m---> 29\u001b[0;31m     \u001b[0my_pred\u001b[0m \u001b[0;34m=\u001b[0m \u001b[0mnp\u001b[0m\u001b[0;34m.\u001b[0m\u001b[0mdot\u001b[0m\u001b[0;34m(\u001b[0m\u001b[0mdata\u001b[0m\u001b[0;34m,\u001b[0m \u001b[0mweights\u001b[0m\u001b[0;34m)\u001b[0m\u001b[0;34m\u001b[0m\u001b[0m\n\u001b[0m\u001b[1;32m     30\u001b[0m     \u001b[0my_pred\u001b[0m\u001b[0;34m[\u001b[0m\u001b[0mnp\u001b[0m\u001b[0;34m.\u001b[0m\u001b[0mwhere\u001b[0m\u001b[0;34m(\u001b[0m\u001b[0my_pred\u001b[0m \u001b[0;34m<=\u001b[0m \u001b[0;36m0\u001b[0m\u001b[0;34m)\u001b[0m\u001b[0;34m]\u001b[0m \u001b[0;34m=\u001b[0m \u001b[0;34m-\u001b[0m\u001b[0;36m1\u001b[0m\u001b[0;34m\u001b[0m\u001b[0m\n\u001b[1;32m     31\u001b[0m     \u001b[0my_pred\u001b[0m\u001b[0;34m[\u001b[0m\u001b[0mnp\u001b[0m\u001b[0;34m.\u001b[0m\u001b[0mwhere\u001b[0m\u001b[0;34m(\u001b[0m\u001b[0my_pred\u001b[0m \u001b[0;34m>\u001b[0m \u001b[0;36m0\u001b[0m\u001b[0;34m)\u001b[0m\u001b[0;34m]\u001b[0m \u001b[0;34m=\u001b[0m \u001b[0;36m1\u001b[0m\u001b[0;34m\u001b[0m\u001b[0m\n",
      "\u001b[0;31mValueError\u001b[0m: shapes (568238,1011) and (738,) not aligned: 1011 (dim 1) != 738 (dim 0)"
     ]
    }
   ],
   "source": [
    "OUTPUT_PATH = 'deneme8.csv' # TODO: fill in desired name of output file for submission\n",
    "y_pred = -predict_labels(weights, final_testx)\n",
    "create_csv_submission(ids_test, y_pred, OUTPUT_PATH)"
   ]
  },
  {
   "cell_type": "code",
   "execution_count": 16,
   "metadata": {
    "collapsed": false
   },
   "outputs": [
    {
     "name": "stdout",
     "output_type": "stream",
     "text": [
      "New time for everything: 1160.2428402900696 seconds.\n"
     ]
    }
   ],
   "source": [
    "end = time.time()\n",
    "print(\"New time for everything:\", end - start, \"seconds.\")"
   ]
  }
 ],
 "metadata": {
  "anaconda-cloud": {},
  "kernelspec": {
   "display_name": "Python 3",
   "language": "python",
   "name": "python3"
  },
  "language_info": {
   "codemirror_mode": {
    "name": "ipython",
    "version": 3
   },
   "file_extension": ".py",
   "mimetype": "text/x-python",
   "name": "python",
   "nbconvert_exporter": "python",
   "pygments_lexer": "ipython3",
   "version": "3.5.2"
  }
 },
 "nbformat": 4,
 "nbformat_minor": 0
}
