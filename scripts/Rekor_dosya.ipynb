{
 "cells": [
  {
   "cell_type": "code",
   "execution_count": 2,
   "metadata": {
    "collapsed": false
   },
   "outputs": [],
   "source": [
    "# Useful starting lines\n",
    "%matplotlib inline\n",
    "import numpy as np\n",
    "import matplotlib.pyplot as plt\n",
    "%load_ext autoreload\n",
    "%autoreload 2"
   ]
  },
  {
   "cell_type": "code",
   "execution_count": 3,
   "metadata": {
    "collapsed": true
   },
   "outputs": [],
   "source": [
    "from proj1_helpers import *\n",
    "DATA_TRAIN_PATH = '/Users/alperkose/Desktop/train.csv' # TODO: download train data and supply path here \n",
    "y, tX, ids = load_csv_data(DATA_TRAIN_PATH)"
   ]
  },
  {
   "cell_type": "code",
   "execution_count": null,
   "metadata": {
    "collapsed": false
   },
   "outputs": [],
   "source": [
    "tX[tX==-999]=0\n",
    "matr=np.zeros((2,2))\n",
    "amq=np.zeros((30))\n",
    "for ay in range (30):\n",
    "    matr=np.corrcoef(y,tX[:,ay])\n",
    "    amq[ay]=matr[0,1]\n",
    "    if abs(amq[ay])>0.1:\n",
    "        print(ay)\n",
    "#amq.sort()\n",
    "#amq"
   ]
  },
  {
   "cell_type": "code",
   "execution_count": null,
   "metadata": {
    "collapsed": false
   },
   "outputs": [],
   "source": [
    "tX[tX==-999]=0\n",
    "np.corrcoef(y,tX[:,28])"
   ]
  },
  {
   "cell_type": "code",
   "execution_count": null,
   "metadata": {
    "collapsed": true
   },
   "outputs": [],
   "source": [
    "def split_data(x, y, ratio,seed=1):\n",
    "    \"\"\"split the dataset based on the split ratio.\"\"\"\n",
    "    # set seed\n",
    "    np.random.seed(seed)\n",
    "    # ***************************************************\n",
    "    # INSERT YOUR CODE HERE\n",
    "    # split the data based on the given ratio: TODO\n",
    "    \n",
    "    \n",
    "    c = list(zip(x, y))\n",
    "\n",
    "    np.random.shuffle(c)\n",
    "\n",
    "    x, y = zip(*c)\n",
    "    \n",
    "    ind=round(ratio*len(x))\n",
    "    ind2=len(x)\n",
    "    x=np.array(x)\n",
    "    trainx = x[0:ind-1,:]\n",
    "    trainy = y[0:ind-1]\n",
    "    testx = x[ind:ind2-1,:]\n",
    "    testy = y[ind:ind2-1]\n",
    "    \n",
    "    return trainx, testx,trainy,testy\n",
    "    # ***************************************************\n",
    "    raise NotImplementedError"
   ]
  },
  {
   "cell_type": "code",
   "execution_count": null,
   "metadata": {
    "collapsed": true
   },
   "outputs": [],
   "source": [
    "tX,testx,y,testy=split_data(tX, y, 0.8,seed=1)"
   ]
  },
  {
   "cell_type": "code",
   "execution_count": null,
   "metadata": {
    "collapsed": false
   },
   "outputs": [],
   "source": [
    "tX=np.delete(tX,[14,15,17,18,20,24,25,27,28],1)\n",
    "tX[tX==-999]=0\n",
    "m=np.mean(tX,axis=0)\n",
    "centered_tX=tX-m\n",
    "centered_tX[centered_tX==-m]=0\n",
    "\n",
    "\n",
    "standardized_tX=centered_tX / np.std(centered_tX, axis=0)\n",
    "\n",
    "d=len(standardized_tX[0])\n",
    "n=len(standardized_tX)\n",
    "mat=np.zeros((n,1771+int(d*(d+1)/2+d)))\n",
    "q=0\n",
    "tao=d \n",
    "\n",
    "for i in range (n):\n",
    "    for t in range (d):  \n",
    "        mat[i,t]=standardized_tX[i,t]\n",
    "\n",
    "        \n",
    "for i in range (n):\n",
    "    for monsoon in range (d):\n",
    "        for t in range (monsoon,d): \n",
    "            mat[i,tao]=standardized_tX[i,t]*standardized_tX[i,monsoon]\n",
    "            tao=tao+1\n",
    "    tao=d  \n",
    "    \n",
    "    \n",
    "\n",
    "tao=int(d*(d+1)/2+d)\n",
    "    \n",
    "for i in range (n):\n",
    "    for r in range (d):\n",
    "        for monsoon in range (r,d):\n",
    "            for t in range (monsoon,d): \n",
    "                mat[i,tao]=standardized_tX[i,t]*standardized_tX[i,monsoon]*standardized_tX[i,r]\n",
    "                tao=tao+1\n",
    "    tao=int(d*(d+1)/2+d)  \n",
    "        \n",
    "    \n",
    "\n"
   ]
  },
  {
   "cell_type": "code",
   "execution_count": null,
   "metadata": {
    "collapsed": true
   },
   "outputs": [],
   "source": [
    "num_samples=len(mat)\n",
    "tx = np.c_[np.ones(num_samples), mat]"
   ]
  },
  {
   "cell_type": "code",
   "execution_count": null,
   "metadata": {
    "collapsed": true
   },
   "outputs": [],
   "source": [
    "def least_squares(y, tx):\n",
    "    \"\"\"calculate the least squares solution.\"\"\"\n",
    "    # ***************************************************\n",
    "    # INSERT YOUR CODE HERE\n",
    "    # least squares: TODO\n",
    "    # returns mse, and optimal weights\n",
    "    xtx=np.dot(tx.transpose(),tx)\n",
    "    xy=np.dot(tx.transpose(),y)\n",
    "    w=np.dot(np.linalg.inv(xtx),xy)\n",
    "    #e=y-np.dot(tx,w)\n",
    "    #mse=np.dot(e.transpose(),e)/(2*len(tx))\n",
    "    return w\n",
    "    # ***************************************************"
   ]
  },
  {
   "cell_type": "code",
   "execution_count": null,
   "metadata": {
    "collapsed": true
   },
   "outputs": [],
   "source": [
    "def ridge_regression(y, tx, lamb):\n",
    "    \"\"\"implement ridge regression.\"\"\"\n",
    "    # ***************************************************\n",
    "    # INSERT YOUR CODE HERE\n",
    "    # ridge regression: TODO\n",
    "    xtx=np.dot(tx.transpose(),tx)\n",
    "    l_inside=2*lamb*len(tx)*np.eye(tx.shape[1])\n",
    "    ins=xtx+l_inside\n",
    "    xy=np.dot(tx.transpose(),y)\n",
    "    \n",
    "    w=np.dot(np.linalg.inv(ins),xy)\n",
    "    e=y-np.dot(tx,w)\n",
    "    mse=np.dot(e.transpose(),e)/(2*len(tx))\n",
    "    \n",
    "    return w\n",
    "    # ***************************************************\n",
    "    raise NotImplementedError"
   ]
  },
  {
   "cell_type": "code",
   "execution_count": null,
   "metadata": {
    "collapsed": true
   },
   "outputs": [],
   "source": [
    "def compute_loss(y, tx, w):\n",
    "    \"\"\"Calculate the loss.\n",
    "    \n",
    "    You can calculate the loss using mse or mae.\n",
    "    \"\"\"\n",
    "    # ***************************************************\n",
    "    e=y-np.dot(tx,w)\n",
    "    mse=np.dot(e.transpose(),e)/(2*len(tx))\n",
    "    return mse\n",
    "    # ***************************************************\n",
    "    raise NotImplementedError"
   ]
  },
  {
   "cell_type": "code",
   "execution_count": null,
   "metadata": {
    "collapsed": true
   },
   "outputs": [],
   "source": [
    "def compute_gradient(y, tx, w):\n",
    "    \"\"\"Compute the gradient.\"\"\"\n",
    "    # ***************************************************\n",
    "    e=y-np.dot(tx,w)\n",
    "    return (-1/len(tx))*np.dot(tx.transpose(),e)\n",
    "    # ***************************************************\n",
    "    raise NotImplementedError"
   ]
  },
  {
   "cell_type": "code",
   "execution_count": null,
   "metadata": {
    "collapsed": true
   },
   "outputs": [],
   "source": [
    "def least_squares_GD(y, tx, gamma, max_iters):\n",
    "    \"\"\"Gradient descent algorithm.\"\"\"\n",
    "    # Define parameters to store w and loss\n",
    "    initial_w=np.zeros(tx.shape[1])\n",
    "    ws = [initial_w]\n",
    "    losses = []\n",
    "    w = initial_w\n",
    "    for n_iter in range(max_iters):\n",
    "        # ***************************************************\n",
    "        # INSERT YOUR CODE HERE\n",
    "        # TODO: compute gradient and loss\n",
    "        grad=compute_gradient(y,tx,w)\n",
    "        loss=compute_loss(y,tx,w)\n",
    "        # ***************************************************\n",
    "        gamma=gamma/1.005\n",
    "        # ***************************************************\n",
    "        # INSERT YOUR CODE HERE\n",
    "        # TODO: update w by gradient\n",
    "        w=w-gamma*grad\n",
    "        # ***************************************************\n",
    "        \n",
    "        # store w and loss\n",
    "        ws.append(np.copy(w))\n",
    "        losses.append(loss)\n",
    "        print(\"Gradient Descent({bi}/{ti}): loss={l}, w0={w0}, w1={w1}\".format(\n",
    "              bi=n_iter, ti=max_iters - 1, l=loss, w0=w[0], w1=w[1]))\n",
    "\n",
    "    return losses, ws"
   ]
  },
  {
   "cell_type": "code",
   "execution_count": null,
   "metadata": {
    "collapsed": false
   },
   "outputs": [],
   "source": [
    "from plots import gradient_descent_visualization\n",
    "import datetime\n",
    "# Define the parameters of the algorithm.\n",
    "max_iters = 100\n",
    "gamma = 0.00001\n",
    "\n",
    "# Initialization\n",
    "#w_initial = np.array([0.0, 0.0])\n",
    "\n",
    "# Start gradient descent.\n",
    "start_time = datetime.datetime.now()\n",
    "gradient_losses, gradient_ws = least_squares_GD(y, tx, gamma, max_iters)\n",
    "end_time = datetime.datetime.now()\n",
    "\n",
    "# Print result\n",
    "exection_time = (end_time - start_time).total_seconds()\n",
    "print(\"Gradient Descent: execution time={t:.3f} seconds\".format(t=exection_time))"
   ]
  },
  {
   "cell_type": "code",
   "execution_count": null,
   "metadata": {
    "collapsed": true
   },
   "outputs": [],
   "source": [
    "least_squares_w=least_squares(y,tx)"
   ]
  },
  {
   "cell_type": "code",
   "execution_count": null,
   "metadata": {
    "collapsed": true
   },
   "outputs": [],
   "source": [
    "lamb=0.00075\n",
    "ridge_w=ridge_regression(y, tx, lamb)"
   ]
  },
  {
   "cell_type": "code",
   "execution_count": null,
   "metadata": {
    "collapsed": false
   },
   "outputs": [],
   "source": [
    "testx=np.delete(testx,[14,15,17,18,20,24,25,27,28],1)\n",
    "testx[testx==-999]=0\n",
    "m2=np.mean(testx,axis=0)\n",
    "centered_testx=testx-m2\n",
    "centered_testx[centered_testx==-m2]=0\n",
    "standardized_testx=centered_testx / np.std(centered_testx, axis=0)\n",
    "\n",
    "\n",
    "d=len(standardized_testx[0])\n",
    "n=len(standardized_testx)\n",
    "mat=np.zeros((n,1771+int(d*(d+1)/2+d)))\n",
    "\n",
    "q=0\n",
    "tao=d \n",
    "\n",
    "for i in range (n):\n",
    "    for t in range (d):  \n",
    "        mat[i,t]=standardized_testx[i,t]\n",
    "\n",
    "        \n",
    "for i in range (n):\n",
    "    for monsoon in range (d):\n",
    "        for t in range (monsoon,d): \n",
    "            mat[i,tao]=standardized_testx[i,t]*standardized_testx[i,monsoon]\n",
    "            tao=tao+1\n",
    "    tao=d  \n",
    "    \n",
    "    \n",
    "\n",
    "tao=int(d*(d+1)/2+d)\n",
    "    \n",
    "for i in range (n):\n",
    "    for r in range (d):\n",
    "        for monsoon in range (r,d):\n",
    "            for t in range (monsoon,d): \n",
    "                mat[i,tao]=standardized_testx[i,t]*standardized_testx[i,monsoon]*standardized_testx[i,r]\n",
    "                tao=tao+1\n",
    "    tao=int(d*(d+1)/2+d)  \n",
    "\n",
    "    \n",
    "num_samples=len(standardized_testx)\n",
    "final_testx = np.c_[np.ones(num_samples), mat]"
   ]
  },
  {
   "cell_type": "code",
   "execution_count": null,
   "metadata": {
    "collapsed": false
   },
   "outputs": [],
   "source": [
    "w=ridge_w\n",
    "#w=least_squares_w\n",
    "#w=gradient_ws[-1]\n",
    "aq=np.dot(final_testx,w)\n",
    "y_guess=np.sign(aq)\n",
    "trueness=sum((y_guess==testy))/len(testy)\n",
    "print(trueness)"
   ]
  },
  {
   "cell_type": "code",
   "execution_count": 4,
   "metadata": {
    "collapsed": false
   },
   "outputs": [],
   "source": [
    "DATA_TEST_PATH = '/Users/alperkose/Desktop/test.csv' # TODO: download train data and supply path here \n",
    "_, tX_test, ids_test = load_csv_data(DATA_TEST_PATH)"
   ]
  },
  {
   "cell_type": "code",
   "execution_count": null,
   "metadata": {
    "collapsed": true
   },
   "outputs": [],
   "source": [
    "testx=tX_test\n",
    "testx=np.delete(testx,[14,15,17,18,20,24,25,27,28],1)\n",
    "testx[testx==-999]=0\n",
    "m2=np.mean(testx,axis=0)\n",
    "centered_testx=testx-m2\n",
    "centered_testx[centered_testx==-m2]=0\n",
    "standardized_testx=centered_testx / np.std(centered_testx, axis=0)\n",
    "\n",
    "\n",
    "\n",
    "\n",
    "\n",
    "d=len(standardized_testx[0])\n",
    "n=len(standardized_testx)\n",
    "mat=np.zeros((n,1771+int(d*(d+1)/2+d)))\n",
    "q=0\n",
    "tao=d \n",
    "\n",
    "for i in range (n):\n",
    "    for t in range (d):  \n",
    "        mat[i,t]=standardized_testx[i,t]\n",
    "\n",
    "        \n",
    "for i in range (n):\n",
    "    for monsoon in range (d):\n",
    "        for t in range (monsoon,d): \n",
    "            mat[i,tao]=standardized_testx[i,t]*standardized_testx[i,monsoon]\n",
    "            tao=tao+1\n",
    "    tao=d  \n",
    "    \n",
    "    \n",
    "\n",
    "tao=int(d*(d+1)/2+d)\n",
    "    \n",
    "for i in range (n):\n",
    "    for r in range (d):\n",
    "        for monsoon in range (r,d):\n",
    "            for t in range (monsoon,d): \n",
    "                mat[i,tao]=standardized_testx[i,t]*standardized_testx[i,monsoon]*standardized_testx[i,r]\n",
    "                tao=tao+1\n",
    "    tao=int(d*(d+1)/2+d)  \n",
    "\n",
    "\n",
    "num_samples=len(standardized_testx)\n",
    "final_testx = np.c_[np.ones(num_samples), mat]\n",
    "tX_test=final_testx\n",
    "weights=ridge_w"
   ]
  },
  {
   "cell_type": "code",
   "execution_count": null,
   "metadata": {
    "collapsed": true
   },
   "outputs": [],
   "source": [
    "OUTPUT_PATH = '/Users/alperkose/Desktop/deneme9.csv' # TODO: fill in desired name of output file for submission\n",
    "y_pred = predict_labels(weights, tX_test)\n",
    "create_csv_submission(ids_test, y_pred, OUTPUT_PATH)"
   ]
  },
  {
   "cell_type": "code",
   "execution_count": 5,
   "metadata": {
    "collapsed": false
   },
   "outputs": [
    {
     "data": {
      "text/plain": [
       "array([ 86488,      0,      0,      0, 402796, 402796, 402796,      0,\n",
       "            0,      0,      0,      0, 402796,      0,      0,      0,\n",
       "            0,      0,      0,      0,      0,      0,      0, 227458,\n",
       "       227458, 227458, 402796, 402796, 402796,      0])"
      ]
     },
     "execution_count": 5,
     "metadata": {},
     "output_type": "execute_result"
    }
   ],
   "source": [
    "sum(tX_test==-999)"
   ]
  },
  {
   "cell_type": "code",
   "execution_count": null,
   "metadata": {
    "collapsed": true
   },
   "outputs": [],
   "source": []
  }
 ],
 "metadata": {
  "anaconda-cloud": {},
  "kernelspec": {
   "display_name": "Python 3",
   "language": "python",
   "name": "python3"
  },
  "language_info": {
   "codemirror_mode": {
    "name": "ipython",
    "version": 3
   },
   "file_extension": ".py",
   "mimetype": "text/x-python",
   "name": "python",
   "nbconvert_exporter": "python",
   "pygments_lexer": "ipython3",
   "version": "3.5.2"
  }
 },
 "nbformat": 4,
 "nbformat_minor": 0
}
