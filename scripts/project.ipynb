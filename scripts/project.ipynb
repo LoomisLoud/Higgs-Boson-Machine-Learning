{
 "cells": [
  {
   "cell_type": "code",
   "execution_count": 2,
   "metadata": {
    "collapsed": false
   },
   "outputs": [],
   "source": [
    "# Useful starting lines\n",
    "%matplotlib inline\n",
    "import numpy as np\n",
    "import matplotlib.pyplot as plt\n",
    "%load_ext autoreload\n",
    "%autoreload 2"
   ]
  },
  {
   "cell_type": "markdown",
   "metadata": {},
   "source": [
    "## Importing the train data"
   ]
  },
  {
   "cell_type": "code",
   "execution_count": 3,
   "metadata": {
    "collapsed": false
   },
   "outputs": [],
   "source": [
    "from proj1_helpers import *\n",
    "#DATA_TRAIN_PATH = '/Users/alperkose/Desktop/train.csv' # TODO: download train data and supply path here \n",
    "DATA_TRAIN_PATH = 'train.csv'\n",
    "y, tX, ids = load_csv_data(DATA_TRAIN_PATH)"
   ]
  },
  {
   "cell_type": "code",
   "execution_count": 4,
   "metadata": {
    "collapsed": true
   },
   "outputs": [],
   "source": [
    "def split_data(x, y, ratio,seed=1):\n",
    "    \"\"\"split the dataset based on the split ratio.\"\"\"\n",
    "    # set seed\n",
    "    np.random.seed(seed)\n",
    "    # ***************************************************\n",
    "    # INSERT YOUR CODE HERE\n",
    "    # split the data based on the given ratio: TODO\n",
    "    \n",
    "    c = list(zip(x, y))\n",
    "\n",
    "    np.random.shuffle(c)\n",
    "\n",
    "    x, y = zip(*c)\n",
    "    \n",
    "    ind=round(ratio*len(x))\n",
    "    ind2=len(x)\n",
    "    x=np.array(x)\n",
    "    trainx = x[0:ind,:]\n",
    "    trainy = y[0:ind]\n",
    "    testx = x[ind:ind2,:]\n",
    "    testy = y[ind:ind2]\n",
    "    \n",
    "    return trainx, testx,trainy,testy"
   ]
  },
  {
   "cell_type": "code",
   "execution_count": null,
   "metadata": {
    "collapsed": true
   },
   "outputs": [],
   "source": []
  },
  {
   "cell_type": "code",
   "execution_count": 7,
   "metadata": {
    "collapsed": false
   },
   "outputs": [
    {
     "name": "stdout",
     "output_type": "stream",
     "text": [
      "30 250000\n",
      "4960.0\n",
      "(250000, 5455)\n"
     ]
    },
    {
     "name": "stderr",
     "output_type": "stream",
     "text": [
      "/home/romain/.local/lib/python3.5/site-packages/ipykernel/__main__.py:30: VisibleDeprecationWarning: using a non-integer number instead of an integer will result in an error in the future\n"
     ]
    }
   ],
   "source": [
    "#tX=np.delete(tX,[0,4,5,6,12,23,24,25,26,27,28],axis=1)\n",
    "\n",
    "# Useful line ?\n",
    "tX[tX==-999] = 0\n",
    "\n",
    "# Removing all of the fucked up -999 and centering the distribution\n",
    "# Same with continuous / non continuous values ?\n",
    "m = np.mean(tX, axis=0)\n",
    "centered_tX = tX - m\n",
    "centered_tX[tX==-999] = 0\n",
    "\n",
    "# Setting them to nan in order to compute the std without having to \n",
    "# worry about the outliers. Putting them back to 0 after.\n",
    "centered_tX[centered_tX==0] = float('nan')\n",
    "stdevtrain = np.nanstd(centered_tX, axis=0);\n",
    "centered_tX[centered_tX==float('nan')] = 0\n",
    "\n",
    "standardized_tX = centered_tX / stdevtrain\n",
    "\n",
    "# Splitting the sizes of features and samples\n",
    "d = len(standardized_tX[0])\n",
    "n = len(standardized_tX)\n",
    "print(d, n)\n",
    "new_dims = 0\n",
    "\n",
    "for t in range (1, d + 1):\n",
    "    new_dims = new_dims + t * (t + 1) / 2\n",
    "  \n",
    "print(new_dims)\n",
    "mat = np.zeros((n, new_dims + int(d * (d + 1) / 2 + d)))\n",
    "print(mat.shape)\n",
    "q = 0\n",
    "tao = d \n",
    "\n",
    "for i in range (n):\n",
    "    for t in range (d):  \n",
    "        mat[i, t] = standardized_tX[i, t]\n",
    "\n",
    "\n",
    "        \n",
    "for i in range (n):\n",
    "    for monsoon in range (d):\n",
    "        for t in range (monsoon,d):\n",
    "            mat[i, tao] = standardized_tX[i, t] * standardized_tX[i,q]\n",
    "            tao=tao+1\n",
    "        q=q+1\n",
    "    tao=d\n",
    "    q=0\n",
    "\n",
    "tao = int(d * (d + 1) / 2 + d)\n",
    "    \n",
    "for i in range (n):\n",
    "    for r in range (d):\n",
    "        for monsoon in range (r,d):\n",
    "            for t in range (monsoon,d): \n",
    "                mat[i, tao] = standardized_tX[i, t] * standardized_tX[i, monsoon] * standardized_tX[i, r]\n",
    "                tao = tao + 1\n",
    "    tao=int(d * (d + 1) / 2 + d)\n",
    "\n",
    "\n"
   ]
  },
  {
   "cell_type": "code",
   "execution_count": null,
   "metadata": {
    "collapsed": false
   },
   "outputs": [],
   "source": [
    "num_samples=len(standardized_tX)\n",
    "tx = np.c_[np.ones(num_samples), mat]\n",
    "#y=list(y)\n",
    "#y[y==-1]=0"
   ]
  },
  {
   "cell_type": "code",
   "execution_count": null,
   "metadata": {
    "collapsed": true
   },
   "outputs": [],
   "source": [
    "def compute_loss(y, tx, w):\n",
    "    \"\"\"Calculate the loss.\n",
    "    \n",
    "    You can calculate the loss using mse or mae.\n",
    "    \"\"\"\n",
    "    # ***************************************************\n",
    "    e=y-np.dot(tx,w)\n",
    "    mse=np.dot(e.transpose(),e)/(2*len(tx))\n",
    "    return mse\n",
    "    # ***************************************************\n",
    "    raise NotImplementedError"
   ]
  },
  {
   "cell_type": "code",
   "execution_count": null,
   "metadata": {
    "collapsed": false
   },
   "outputs": [],
   "source": [
    "tX,testx,y,testy=split_data(tx, y, 0.8,seed=1)"
   ]
  },
  {
   "cell_type": "code",
   "execution_count": null,
   "metadata": {
    "collapsed": false
   },
   "outputs": [],
   "source": [
    "from __future__ import division\n",
    "import numpy as np \n",
    "def logistic(a):\n",
    "    return 1.0 / (1 + np.exp(-a))\n",
    "def irls(X, y):\n",
    "    theta = np.zeros(X.shape[1])\n",
    "    theta_ = np.inf\n",
    "    eps=250000\n",
    "    lamda=10\n",
    "    for aqua in range (3):\n",
    "        grad=np.zeros(X.shape[1])\n",
    "        a = np.dot(X, theta)\n",
    "        pi = logistic(a)        \n",
    "        SX = X * (pi - pi*pi).reshape(-1,1)\n",
    "        XSX = np.dot(X.T,SX)+lamda*np.eye((len(X[0])))\n",
    "        #+lamda*np.eye((len(X[0])))\n",
    "        for aw in range (len(tx)):\n",
    "            grad=grad+(-1/len(tx))*(y[aw]*X[aw,:]*logistic(-y[aw]*np.dot(X[aw,:],theta)))\n",
    "        \n",
    "        \n",
    "     \n",
    "        theta = theta-eps*np.linalg.solve(XSX,grad)\n",
    "        print(sum(y==np.sign(np.dot(X,theta)))/len(y))\n",
    "       \n",
    "        if aqua%10==0 and aqua!=0:\n",
    "            eps=eps*0.2\n",
    "    return theta"
   ]
  },
  {
   "cell_type": "code",
   "execution_count": null,
   "metadata": {
    "collapsed": false
   },
   "outputs": [],
   "source": [
    "theta=irls(tX,y)"
   ]
  },
  {
   "cell_type": "code",
   "execution_count": null,
   "metadata": {
    "collapsed": false
   },
   "outputs": [],
   "source": [
    "#testx=np.delete(testx,[0,4,5,6,12,23,24,25,26,27,28],axis=1)\n",
    "testx[testx==-999]=0\n",
    "m2=np.mean(testx,axis=0)\n",
    "centered_testx=testx-m2\n",
    "centered_testx[testx==-999]=0\n",
    "standardized_testx=centered_testx / np.std(centered_testx, axis=0)\n",
    "centered_testx[centered_testx==0]=float('nan')\n",
    "stdevtest=np.nanstd(centered_testx,axis=0);\n",
    "centered_testx[centered_testx==float('nan')]=0\n",
    "standardized_testx=centered_testx / stdevtest\n",
    "\n",
    "d=len(standardized_testx[0])\n",
    "n=len(standardized_testx)\n",
    "mat=np.zeros((n,new_dims+int(d*(d+1)/2+d)))\n",
    "q=0\n",
    "tao=d \n",
    "\n",
    "for i in range (n):\n",
    "    for t in range (d):  \n",
    "        mat[i,t]=standardized_testx[i,t]\n",
    "\n",
    "        \n",
    "for i in range (n):\n",
    "    for mk in range (d):\n",
    "        for t in range (mk,d): \n",
    "            mat[i,tao]=standardized_testx[i,t]*standardized_testx[i,q]\n",
    "            tao=tao+1\n",
    "        q=q+1    \n",
    "    tao=d  \n",
    "    q=0\n",
    "\n",
    "tao=int(d*(d+1)/2+d)\n",
    "    \n",
    "for i in range (n):\n",
    "    for r in range (d):\n",
    "        for monsoon in range (r,d):\n",
    "            for t in range (monsoon,d): \n",
    "                mat[i,tao]=standardized_testx[i,t]*standardized_testx[i,monsoon]*standardized_testx[i,r]\n",
    "                tao=tao+1\n",
    "    tao=int(d*(d+1)/2+d)  \n",
    "\n",
    "    \n",
    "num_samples=len(standardized_testx)\n",
    "final_testx = np.c_[np.ones(num_samples), mat]\n",
    "\n"
   ]
  },
  {
   "cell_type": "code",
   "execution_count": null,
   "metadata": {
    "collapsed": false
   },
   "outputs": [],
   "source": [
    "aq=np.dot(testx,theta)\n",
    "y_guess=np.sign(aq)\n",
    "trueness=sum((y_guess==testy))/len(testy)\n",
    "print(trueness)"
   ]
  },
  {
   "cell_type": "code",
   "execution_count": null,
   "metadata": {
    "collapsed": false
   },
   "outputs": [],
   "source": [
    "theta"
   ]
  },
  {
   "cell_type": "code",
   "execution_count": null,
   "metadata": {
    "collapsed": false
   },
   "outputs": [],
   "source": [
    "aq=sum(tX.transpose()==-999)\n",
    "aq[1:100]"
   ]
  },
  {
   "cell_type": "code",
   "execution_count": null,
   "metadata": {
    "collapsed": false
   },
   "outputs": [],
   "source": [
    "y[1:100]"
   ]
  },
  {
   "cell_type": "code",
   "execution_count": null,
   "metadata": {
    "collapsed": true
   },
   "outputs": [],
   "source": []
  },
  {
   "cell_type": "code",
   "execution_count": null,
   "metadata": {
    "collapsed": true
   },
   "outputs": [],
   "source": []
  },
  {
   "cell_type": "code",
   "execution_count": null,
   "metadata": {
    "collapsed": true
   },
   "outputs": [],
   "source": []
  },
  {
   "cell_type": "code",
   "execution_count": null,
   "metadata": {
    "collapsed": true
   },
   "outputs": [],
   "source": []
  },
  {
   "cell_type": "code",
   "execution_count": null,
   "metadata": {
    "collapsed": true
   },
   "outputs": [],
   "source": []
  },
  {
   "cell_type": "code",
   "execution_count": null,
   "metadata": {
    "collapsed": false
   },
   "outputs": [],
   "source": [
    "sum(testx==-999)"
   ]
  },
  {
   "cell_type": "code",
   "execution_count": null,
   "metadata": {
    "collapsed": true
   },
   "outputs": [],
   "source": []
  },
  {
   "cell_type": "code",
   "execution_count": null,
   "metadata": {
    "collapsed": true
   },
   "outputs": [],
   "source": []
  },
  {
   "cell_type": "code",
   "execution_count": null,
   "metadata": {
    "collapsed": true
   },
   "outputs": [],
   "source": []
  },
  {
   "cell_type": "code",
   "execution_count": null,
   "metadata": {
    "collapsed": true
   },
   "outputs": [],
   "source": []
  },
  {
   "cell_type": "code",
   "execution_count": null,
   "metadata": {
    "collapsed": true
   },
   "outputs": [],
   "source": []
  },
  {
   "cell_type": "code",
   "execution_count": null,
   "metadata": {
    "collapsed": true
   },
   "outputs": [],
   "source": []
  }
 ],
 "metadata": {
  "anaconda-cloud": {},
  "kernelspec": {
   "display_name": "Python 3",
   "language": "python",
   "name": "python3"
  },
  "language_info": {
   "codemirror_mode": {
    "name": "ipython",
    "version": 3
   },
   "file_extension": ".py",
   "mimetype": "text/x-python",
   "name": "python",
   "nbconvert_exporter": "python",
   "pygments_lexer": "ipython3",
   "version": "3.5.2"
  }
 },
 "nbformat": 4,
 "nbformat_minor": 0
}
