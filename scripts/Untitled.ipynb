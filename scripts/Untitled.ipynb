{
 "cells": [
  {
   "cell_type": "code",
   "execution_count": 2,
   "metadata": {
    "collapsed": false
   },
   "outputs": [],
   "source": [
    "# Useful starting lines\n",
    "%matplotlib inline\n",
    "import numpy as np\n",
    "import matplotlib.pyplot as plt\n",
    "import time\n",
    "from implementations import *\n",
    "from build_polynomial import *\n",
    "%load_ext autoreload\n",
    "%autoreload 2"
   ]
  },
  {
   "cell_type": "code",
   "execution_count": 3,
   "metadata": {
    "collapsed": false
   },
   "outputs": [],
   "source": [
    "start = time.time()\n",
    "from proj1_helpers import *\n",
    "DATA_TRAIN_PATH = 'train.csv' # TODO: download train data and supply path here \n",
    "y, tX, ids = load_csv_data(DATA_TRAIN_PATH)\n"
   ]
  },
  {
   "cell_type": "code",
   "execution_count": 4,
   "metadata": {
    "collapsed": false
   },
   "outputs": [],
   "source": [
    "# Removing bothering data and centering\n",
    "tX[tX==-999] = 0\n",
    "m = np.mean(tX, axis=0)\n",
    "centered_tX = tX - m\n",
    "\n",
    "centered_tX[centered_tX==0] = float('nan')\n",
    "stdevtrain = np.nanstd(centered_tX, axis=0)\n",
    "centered_tX[centered_tX==float('nan')] = 0\n",
    "standardized_tX = centered_tX / stdevtrain"
   ]
  },
  {
   "cell_type": "code",
   "execution_count": 6,
   "metadata": {
    "collapsed": false,
    "scrolled": true
   },
   "outputs": [
    {
     "name": "stdout",
     "output_type": "stream",
     "text": [
      "Creating indices...\n",
      "Computing first degree...\n",
      "Computing second degree with combinations...\n",
      "Computing from degree 3 to 10 without combinations...\n",
      "Computing third degree with some combinations...\n",
      "Creating indices...\n",
      "Computing first degree...\n",
      "Computing second degree with combinations...\n",
      "Computing third degree with some combinations...\n",
      "Creating indices...\n",
      "Computing first degree...\n",
      "Computing second degree with combinations...\n",
      "Computing from degree 3 to 10 without combinations...\n"
     ]
    }
   ],
   "source": [
    "#mat = build_poly_until_degree(standardized_tX, degree=10)\n",
    "mat = build_poly_combinations_st_all(standardized_tX)\n",
    "mat = build_poly_combinations_st(standardized_tX)\n",
    "mat = build_poly_combinations_s(standardized_tX)"
   ]
  },
  {
   "cell_type": "code",
   "execution_count": 5,
   "metadata": {
    "collapsed": false
   },
   "outputs": [],
   "source": [
    "m2=np.mean(mat,axis=0)\n",
    "centered_mat=mat-m2\n",
    "centered_mat[mat==0]=0\n",
    "\n",
    "centered_mat[centered_mat==0]=float('nan')\n",
    "stdev=np.nanstd(centered_mat,axis=0);\n",
    "centered_mat[centered_mat==float('nan')]=0\n",
    "standardized_mat=centered_mat / stdev\n",
    "\n",
    "num_samples=len(standardized_mat)\n",
    "tx = np.c_[np.ones(num_samples), standardized_mat]"
   ]
  },
  {
   "cell_type": "code",
   "execution_count": 6,
   "metadata": {
    "collapsed": false,
    "scrolled": false
   },
   "outputs": [
    {
     "name": "stdout",
     "output_type": "stream",
     "text": [
      "Freeing memory\n",
      "[('build_poly_combinations_st_all', 30), ('build_poly_combinations_st', 26), ('build_poly_combinations_s', 25), ('build_poly_until_degree', 23), ('reg_logistic_regression', 23), ('create_csv_submission', 21), ('compute_logistic_loss', 21), ('logistic_regression', 19), ('least_squares_SGD', 17), ('compute_gradient', 16), ('least_squares_GD', 16), ('ridge_regression', 16), ('predict_labels', 14), ('load_csv_data', 13), ('least_squares', 13), ('compute_loss', 12), ('__builtins__', 12), ('__builtin__', 11), ('num_samples', 11), ('stdevtrain', 10), ('batch_iter', 10), ('sigmoid', 7), ('start', 5), ('stdev', 5), ('time', 4), ('_iii', 4), ('quit', 4), ('exit', 4), ('_oh', 3), ('_ih', 3), ('_i2', 3), ('___', 3), ('_ii', 3), ('_i1', 3), ('Out', 3), ('_i3', 3), ('_i4', 3), ('plt', 3), ('_sh', 3), ('_i5', 3), ('_i6', 3), ('_dh', 3), ('csv', 3), ('sig', 3), ('tx', 2), ('m2', 2), ('In', 2), ('_i', 2), ('tX', 2), ('__', 2), ('np', 2), ('_', 1), ('y', 1), ('m', 1)]\n"
     ]
    }
   ],
   "source": [
    "print(\"Freeing memory\")\n",
    "del(centered_mat, centered_tX, standardized_mat, standardized_tX)\n",
    "del(mat, DATA_TRAIN_PATH, ids)\n",
    "\n",
    "lens = [(x,len(x)) for x in set(dir()) - set(dir(__builtins__))]\n",
    "testout = sorted(lens, key=lambda l: l[1])\n",
    "print(testout[::-1])"
   ]
  },
  {
   "cell_type": "code",
   "execution_count": 7,
   "metadata": {
    "collapsed": false
   },
   "outputs": [],
   "source": [
    "a=[i for i in range (200000,250000)]\n",
    "b=[i for i in range (150000,200000)]\n",
    "c=[i for i in range (100000,150000)]\n",
    "d=[i for i in range (50000,100000)]\n",
    "e=[i for i in range (0,50000)]"
   ]
  },
  {
   "cell_type": "code",
   "execution_count": 8,
   "metadata": {
    "collapsed": false
   },
   "outputs": [],
   "source": [
    "x1=np.delete(tx,a,axis=0)\n",
    "x2=np.delete(tx,b,axis=0)\n",
    "x3=np.delete(tx,c,axis=0)\n",
    "x4=np.delete(tx,d,axis=0)\n",
    "x5=np.delete(tx,e,axis=0)\n",
    "y1=np.delete(y,a,axis=0)\n",
    "y2=np.delete(y,b,axis=0)\n",
    "y3=np.delete(y,c,axis=0)\n",
    "y4=np.delete(y,d,axis=0)\n",
    "y5=np.delete(y,e,axis=0)"
   ]
  },
  {
   "cell_type": "code",
   "execution_count": 7,
   "metadata": {
    "collapsed": false,
    "scrolled": true
   },
   "outputs": [],
   "source": [
    "max_iters = 500\n",
    "gamma = 0.016\n",
    "#gradient_losses, gradient_w = least_squares_GD(y, tx, np.zeros(tx.shape[1]), max_iters, gamma)\n",
    "w, loss = least_squares_SGD(y, tx, np.zeros(tx.shape[1]), max_iters, gamma)\n",
    "#least_squares(y, tx)\n",
    "#reg_logistic_regression(y, tx, np.zeros(tx.shape[1]), max_iters, gamma)"
   ]
  },
  {
   "cell_type": "code",
   "execution_count": 7,
   "metadata": {
    "collapsed": false,
    "scrolled": true
   },
   "outputs": [],
   "source": [
    "lambda_=10**-8\n",
    "gamma=10**5\n",
    "max_iters=10\n",
    "w = reg_logistic_regression(y, tx, lambda_, np.zeros(tx.shape[1]), max_iters, gamma)"
   ]
  },
  {
   "cell_type": "code",
   "execution_count": null,
   "metadata": {
    "collapsed": false
   },
   "outputs": [],
   "source": [
    "_, least_squares_w=least_squares(y1,x1)"
   ]
  },
  {
   "cell_type": "code",
   "execution_count": 53,
   "metadata": {
    "collapsed": false,
    "scrolled": true
   },
   "outputs": [],
   "source": [
    "lamb=0.00075\n",
    "ridge_w=ridge_regression(y, tx, lamb)"
   ]
  },
  {
   "cell_type": "code",
   "execution_count": 9,
   "metadata": {
    "collapsed": false,
    "scrolled": true
   },
   "outputs": [
    {
     "name": "stdout",
     "output_type": "stream",
     "text": [
      "1\n",
      "0.82494\n",
      "0.82716\n",
      "0.829605\n",
      "0.831715\n",
      "0.833125\n",
      "0.83398\n",
      "0.830105\n",
      "0.652745\n",
      "0.6729\n",
      "0.604485\n",
      "0.412095\n",
      "0.68675\n",
      "0.51803\n",
      "0.67154\n",
      "0.70518\n",
      "2\n",
      "0.82603\n",
      "0.82823\n",
      "0.83034\n",
      "0.83262\n",
      "0.833725\n",
      "0.834585\n",
      "0.831865\n",
      "0.57574\n",
      "0.524665\n",
      "0.487105\n",
      "0.689725\n",
      "0.65979\n",
      "0.701325\n",
      "0.53898\n",
      "0.68329\n",
      "3\n",
      "0.825445\n",
      "0.827475\n",
      "0.8298\n",
      "0.83207\n",
      "0.833375\n",
      "0.834025\n",
      "0.834355\n",
      "0.83461\n",
      "0.834735\n",
      "0.83477\n",
      "0.83509\n",
      "0.83515\n",
      "0.835195\n",
      "0.83526\n",
      "0.83529\n",
      "4\n",
      "0.82598\n",
      "0.82781\n",
      "0.830245\n",
      "0.832465\n",
      "0.833835\n",
      "0.83452\n",
      "0.8347\n",
      "0.834995\n",
      "0.83518\n",
      "0.83521\n",
      "0.83529\n",
      "0.83539\n",
      "0.835435\n",
      "0.83549\n",
      "0.83561\n",
      "5\n",
      "0.825635\n",
      "0.82799\n",
      "0.830495\n",
      "0.83224\n",
      "0.833755\n",
      "0.83492\n",
      "0.835475\n",
      "0.83059\n",
      "0.825735\n",
      "0.604615\n",
      "0.42141\n",
      "0.585955\n",
      "0.694995\n",
      "0.3932\n",
      "0.66297\n"
     ]
    }
   ],
   "source": [
    "#reg_logistic_w=reg_irls(tX,y)\n",
    "print(1)\n",
    "reg_logistic_w1=reg_irls(x1,y1)\n",
    "print(2)\n",
    "reg_logistic_w2=reg_irls(x2,y2)\n",
    "print(3)\n",
    "reg_logistic_w3=reg_irls(x3,y3)\n",
    "print(4)\n",
    "reg_logistic_w4=reg_irls(x4,y4)\n",
    "print(5)\n",
    "reg_logistic_w5=reg_irls(x5,y5)\n",
    "reg_logistic_w=(reg_logistic_w1+reg_logistic_w2+reg_logistic_w3+reg_logistic_w4+reg_logistic_w5)/5"
   ]
  },
  {
   "cell_type": "code",
   "execution_count": 21,
   "metadata": {
    "collapsed": false,
    "scrolled": false
   },
   "outputs": [
    {
     "name": "stdout",
     "output_type": "stream",
     "text": [
      "0.815256\n",
      "0.81586\n",
      "0.816708\n",
      "0.817492\n",
      "0.818404\n",
      "0.819396\n",
      "0.819916\n",
      "0.8204\n",
      "0.820732\n",
      "0.821184\n",
      "0.821572\n",
      "0.821704\n",
      "0.821928\n",
      "0.822104\n",
      "0.822268\n",
      "0.822344\n",
      "0.8224\n",
      "0.822456\n",
      "0.822556\n",
      "0.82264\n"
     ]
    }
   ],
   "source": [
    "logistic_w = irls(tx,y)"
   ]
  },
  {
   "cell_type": "code",
   "execution_count": 8,
   "metadata": {
    "collapsed": false,
    "scrolled": false
   },
   "outputs": [
    {
     "name": "stdout",
     "output_type": "stream",
     "text": [
      "Freeing memory\n"
     ]
    }
   ],
   "source": [
    "print(\"Freeing memory\")\n",
    "del(y, tx)"
   ]
  },
  {
   "cell_type": "code",
   "execution_count": 9,
   "metadata": {
    "collapsed": false
   },
   "outputs": [],
   "source": [
    "DATA_TEST_PATH = 'test.csv' # TODO: download train data and supply path here \n",
    "_, tX_test, ids_test = load_csv_data(DATA_TEST_PATH)"
   ]
  },
  {
   "cell_type": "code",
   "execution_count": 10,
   "metadata": {
    "collapsed": false
   },
   "outputs": [],
   "source": [
    "weights = w[0]\n",
    "#weights = gradient_losses\n",
    "#weights = ridge_w\n",
    "#weights = reg_logistic_w\n",
    "#weights = logistic_w\n",
    "del(w)\n",
    "#del(gradient_losses)\n",
    "#del(ridge_w)\n",
    "#del(logistic_w)\n",
    "#del(reg_logistic_w)\n",
    "testx = tX_test\n",
    "del(tX_test)\n",
    "#testx=np.delete(testx,[14,15,17,18,24,25,27,28],axis=1)\n",
    "testx[testx==-999] = 0\n",
    "#m2=np.mean(testx,axis=0)\n",
    "centered_testx = testx - m\n",
    "centered_testx[testx==-999] = 0\n",
    "#standardized_testx=centered_testx / np.std(centered_testx, axis=0)\n",
    "#centered_testx[centered_testx==0]=float('nan')\n",
    "#stdevtest=np.nanstd(centered_testx,axis=0);\n",
    "#centered_testx[centered_testx==float('nan')]=0\n",
    "standardized_testx = centered_testx / stdevtrain"
   ]
  },
  {
   "cell_type": "code",
   "execution_count": 11,
   "metadata": {
    "collapsed": false,
    "scrolled": true
   },
   "outputs": [
    {
     "name": "stdout",
     "output_type": "stream",
     "text": [
      "Computing from degree 1 to 10 without combinations...\n"
     ]
    }
   ],
   "source": [
    "mat = build_poly_until_degree(standardized_testx, degree=10)\n",
    "#mat = build_poly_combinations_st_all(standardized_testx)\n",
    "#mat = build_poly_combinations_st(standardized_testx)\n",
    "#mat = build_poly_combinations_s(standardized_testx)"
   ]
  },
  {
   "cell_type": "code",
   "execution_count": 12,
   "metadata": {
    "collapsed": false
   },
   "outputs": [
    {
     "name": "stdout",
     "output_type": "stream",
     "text": [
      "Freeing memory\n",
      "Freeing memory\n"
     ]
    }
   ],
   "source": [
    "centered_mat = mat - m2\n",
    "centered_mat[mat==0] = 0\n",
    "\n",
    "print(\"Freeing memory\")\n",
    "del(standardized_testx)\n",
    "del(mat, DATA_TEST_PATH, testx, centered_testx)\n",
    "\n",
    "#centered_mat[centered_mat==0]=float('nan')\n",
    "#stdev = np.nanstd(centered_mat, axis=0);\n",
    "#centered_mat[centered_mat==float('nan')]=0\n",
    "standardized_testmat = centered_mat / stdev\n",
    "\n",
    "print(\"Freeing memory\")\n",
    "del(centered_mat, stdev)\n",
    "\n",
    "num_samples = len(standardized_testmat)\n",
    "tX_test = np.c_[np.ones(num_samples), standardized_testmat]"
   ]
  },
  {
   "cell_type": "code",
   "execution_count": 13,
   "metadata": {
    "collapsed": false
   },
   "outputs": [],
   "source": [
    "OUTPUT_PATH = 'out.csv' # TODO: fill in desired name of output file for submission\n",
    "y_pred = predict_labels(weights, tX_test)\n",
    "create_csv_submission(ids_test, y_pred, OUTPUT_PATH)"
   ]
  },
  {
   "cell_type": "code",
   "execution_count": null,
   "metadata": {
    "collapsed": true
   },
   "outputs": [],
   "source": []
  }
 ],
 "metadata": {
  "anaconda-cloud": {},
  "kernelspec": {
   "display_name": "Python 3",
   "language": "python",
   "name": "python3"
  },
  "language_info": {
   "codemirror_mode": {
    "name": "ipython",
    "version": 3
   },
   "file_extension": ".py",
   "mimetype": "text/x-python",
   "name": "python",
   "nbconvert_exporter": "python",
   "pygments_lexer": "ipython3",
   "version": "3.5.2"
  }
 },
 "nbformat": 4,
 "nbformat_minor": 0
}
