{
 "cells": [
  {
   "cell_type": "code",
   "execution_count": 1,
   "metadata": {
    "collapsed": false
   },
   "outputs": [],
   "source": [
    "# Useful starting lines\n",
    "%matplotlib inline\n",
    "import numpy as np\n",
    "import matplotlib.pyplot as plt\n",
    "import time\n",
    "%load_ext autoreload\n",
    "%autoreload 2"
   ]
  },
  {
   "cell_type": "code",
   "execution_count": 2,
   "metadata": {
    "collapsed": false
   },
   "outputs": [],
   "source": [
    "from proj1_helpers import *\n",
    "DATA_TRAIN_PATH = 'train.csv' # TODO: download train data and supply path here \n",
    "y, tX, ids = load_csv_data(DATA_TRAIN_PATH)\n"
   ]
  },
  {
   "cell_type": "code",
   "execution_count": 3,
   "metadata": {
    "collapsed": true
   },
   "outputs": [],
   "source": [
    "def split_data(x, y, ratio,seed=1):\n",
    "    \"\"\"split the dataset based on the split ratio.\"\"\"\n",
    "    # set seed\n",
    "    np.random.seed(seed)\n",
    "    # ***************************************************\n",
    "    # INSERT YOUR CODE HERE\n",
    "    # split the data based on the given ratio: TODO    \n",
    "    c = list(zip(x, y))\n",
    "\n",
    "    np.random.shuffle(c)\n",
    "\n",
    "    x, y = zip(*c)\n",
    "    \n",
    "    ind = round(ratio * len(x))\n",
    "    ind2 = len(x)\n",
    "    x = np.array(x)\n",
    "    trainx = x[0:ind,:]\n",
    "    trainy = y[0:ind]\n",
    "    testx = x[ind:ind2,:]\n",
    "    testy = y[ind:ind2]\n",
    "    \n",
    "    return trainx, testx,trainy,testy"
   ]
  },
  {
   "cell_type": "code",
   "execution_count": 6,
   "metadata": {
    "collapsed": false
   },
   "outputs": [
    {
     "name": "stdout",
     "output_type": "stream",
     "text": [
      "It took: 84.6303768157959 to run.\n"
     ]
    },
    {
     "ename": "TypeError",
     "evalue": "list indices must be integers or slices, not tuple",
     "output_type": "error",
     "traceback": [
      "\u001b[0;31m---------------------------------------------------------------------------\u001b[0m",
      "\u001b[0;31mTypeError\u001b[0m                                 Traceback (most recent call last)",
      "\u001b[0;32m<ipython-input-6-31b2e33b3246>\u001b[0m in \u001b[0;36m<module>\u001b[0;34m()\u001b[0m\n\u001b[1;32m     39\u001b[0m     \u001b[0;32mfor\u001b[0m \u001b[0mmonsoon\u001b[0m \u001b[0;32min\u001b[0m \u001b[0mrange\u001b[0m \u001b[0;34m(\u001b[0m\u001b[0md\u001b[0m\u001b[0;34m)\u001b[0m\u001b[0;34m:\u001b[0m\u001b[0;34m\u001b[0m\u001b[0m\n\u001b[1;32m     40\u001b[0m         \u001b[0;32mfor\u001b[0m \u001b[0mt\u001b[0m \u001b[0;32min\u001b[0m \u001b[0mrange\u001b[0m \u001b[0;34m(\u001b[0m\u001b[0mmonsoon\u001b[0m\u001b[0;34m,\u001b[0m\u001b[0md\u001b[0m\u001b[0;34m)\u001b[0m\u001b[0;34m:\u001b[0m\u001b[0;34m\u001b[0m\u001b[0m\n\u001b[0;32m---> 41\u001b[0;31m             \u001b[0mindices\u001b[0m\u001b[0;34m[\u001b[0m\u001b[0mi\u001b[0m\u001b[0;34m,\u001b[0m\u001b[0mtao\u001b[0m\u001b[0;34m]\u001b[0m \u001b[0;34m=\u001b[0m \u001b[0;34m[\u001b[0m\u001b[0;34m[\u001b[0m\u001b[0mi\u001b[0m\u001b[0;34m,\u001b[0m\u001b[0mt\u001b[0m\u001b[0;34m]\u001b[0m\u001b[0;34m,\u001b[0m \u001b[0;34m[\u001b[0m\u001b[0mi\u001b[0m\u001b[0;34m,\u001b[0m\u001b[0mmonsoon\u001b[0m\u001b[0;34m]\u001b[0m\u001b[0;34m]\u001b[0m\u001b[0;34m\u001b[0m\u001b[0m\n\u001b[0m\u001b[1;32m     42\u001b[0m             \u001b[0mtao\u001b[0m\u001b[0;34m=\u001b[0m\u001b[0mtao\u001b[0m\u001b[0;34m+\u001b[0m\u001b[0;36m1\u001b[0m\u001b[0;34m\u001b[0m\u001b[0m\n\u001b[1;32m     43\u001b[0m     \u001b[0mtao\u001b[0m\u001b[0;34m=\u001b[0m\u001b[0;36m0\u001b[0m\u001b[0;34m\u001b[0m\u001b[0m\n",
      "\u001b[0;31mTypeError\u001b[0m: list indices must be integers or slices, not tuple"
     ]
    }
   ],
   "source": [
    "# Removing bothering data and centering\n",
    "tX[tX==-999] = 0\n",
    "m = np.mean(tX, axis=0)\n",
    "centered_tX = tX - m\n",
    "\n",
    "centered_tX[centered_tX==0] = float('nan')\n",
    "stdevtrain = np.nanstd(centered_tX, axis=0);\n",
    "centered_tX[centered_tX==float('nan')] = 0\n",
    "standardized_tX = centered_tX / stdevtrain\n",
    "\n",
    "d = len(standardized_tX[0])\n",
    "n = len(standardized_tX)\n",
    "new_dims = 0\n",
    "    \n",
    "mat = np.zeros((n, new_dims + int(d * (d + 1) / 2 + d)))\n",
    "q = 0\n",
    "tao = d \n",
    "\n",
    "# From 3 sec to 0.01\n",
    "mat[:standardized_tX.shape[0], :standardized_tX.shape[1]] = standardized_tX\n",
    "\n",
    "start = time.time()\n",
    "\n",
    "for i in range (n):\n",
    "    for monsoon in range (d):\n",
    "        for t in range (monsoon,d): \n",
    "            mat[i,tao] = standardized_tX[i,t] * standardized_tX[i,monsoon]\n",
    "            tao=tao+1\n",
    "    tao=d\n",
    "    \n",
    "end = time.time()\n",
    "print(\"It took:\", end - start, \"to run.\")\n",
    "\n",
    "start = time.time()\n",
    "\n",
    "indices = \n",
    "for i in range (n):\n",
    "    for monsoon in range (d):\n",
    "        for t in range (monsoon,d): \n",
    "            indices[i,tao] = [[i,t], [i,monsoon]]\n",
    "            tao=tao+1\n",
    "    tao=0\n",
    "\n",
    "end = time.time()\n",
    "print(\"It took:\", end - start, \"to run.\")\n",
    "#for t in range (3,11):\n",
    "#    for i in range (30):\n",
    "#        mat=np.column_stack((mat,standardized_tX[:,i]**t))\n",
    "\n",
    "end = time.time()\n",
    "print(\"It took:\", end - start, \"to run.\")\n",
    "    \n"
   ]
  },
  {
   "cell_type": "code",
   "execution_count": 4,
   "metadata": {
    "collapsed": false
   },
   "outputs": [],
   "source": [
    "#excluded=[]\n",
    "#for i in range (len(mat[0])):\n",
    "#    a=np.corrcoef(y,mat[:,i])\n",
    "#    if abs(a[0,1])<10**-3:\n",
    "#        excluded.append(i)"
   ]
  },
  {
   "cell_type": "code",
   "execution_count": 5,
   "metadata": {
    "collapsed": true
   },
   "outputs": [],
   "source": [
    "#mat=np.delete(mat,excluded,axis=1)"
   ]
  },
  {
   "cell_type": "code",
   "execution_count": 6,
   "metadata": {
    "collapsed": true
   },
   "outputs": [],
   "source": [
    "m2=np.mean(mat,axis=0)\n",
    "centered_mat=mat-m2\n",
    "centered_mat[mat==0]=0\n",
    "\n",
    "centered_mat[centered_mat==0]=float('nan')\n",
    "stdev=np.nanstd(centered_mat,axis=0);\n",
    "centered_mat[centered_mat==float('nan')]=0\n",
    "standardized_mat=centered_mat / stdev"
   ]
  },
  {
   "cell_type": "code",
   "execution_count": 7,
   "metadata": {
    "collapsed": false
   },
   "outputs": [],
   "source": [
    "num_samples=len(standardized_mat)\n",
    "tx = np.c_[np.ones(num_samples), standardized_mat]\n",
    "#y=list(y)\n",
    "#y[y==-1]=0"
   ]
  },
  {
   "cell_type": "code",
   "execution_count": 8,
   "metadata": {
    "collapsed": true
   },
   "outputs": [],
   "source": [
    "def compute_loss(y, tx, w):\n",
    "    \"\"\"Calculate the loss.\n",
    "    \n",
    "    You can calculate the loss using mse or mae.\n",
    "    \"\"\"\n",
    "    # ***************************************************\n",
    "    e=y-np.dot(tx,w)\n",
    "    mse=np.dot(e.transpose(),e)/(2*len(tx))\n",
    "    return mse\n",
    "    # ***************************************************\n",
    "    raise NotImplementedError"
   ]
  },
  {
   "cell_type": "code",
   "execution_count": 9,
   "metadata": {
    "collapsed": false
   },
   "outputs": [],
   "source": [
    "tX,testx,y,testy=split_data(tx, y, 0.8,seed=1)"
   ]
  },
  {
   "cell_type": "code",
   "execution_count": 10,
   "metadata": {
    "collapsed": false
   },
   "outputs": [],
   "source": [
    "from __future__ import division\n",
    "import numpy as np \n",
    "def logistic(a):\n",
    "    return 1.0 / (1 + np.exp(-a))\n",
    "def irls(X, y):\n",
    "    theta = np.zeros(X.shape[1])\n",
    "    theta_ = np.inf\n",
    "    eps=60000\n",
    "    lamda=5\n",
    "    for aqua in range (11):\n",
    "        grad=np.zeros(X.shape[1])\n",
    "        a = np.dot(X, theta)\n",
    "        #a=math.log10(abs(a))*sign(a)\n",
    "        #print(min(a),max(a))\n",
    "        pi = logistic(a)        \n",
    "        SX = X * (pi - pi*pi).reshape(-1,1)\n",
    "        XSX = np.dot(X.T,SX)\n",
    "        #+lamda*np.eye((len(X[0])))\n",
    "        for aw in range (len(X)):\n",
    "            grad=grad+(-1/len(X))*(y[aw]*X[aw,:]*logistic(-y[aw]*np.dot(X[aw,:],theta)))\n",
    "        \n",
    "        \n",
    "     \n",
    "        theta = theta-eps*np.linalg.solve(XSX,grad)\n",
    "        print(sum(y==np.sign(np.dot(X,theta)))/len(y))\n",
    "       \n",
    "        if aqua%5==0 and aqua!=0:\n",
    "            eps=eps*0.8\n",
    "    return theta"
   ]
  },
  {
   "cell_type": "code",
   "execution_count": 14,
   "metadata": {
    "collapsed": false
   },
   "outputs": [
    {
     "name": "stdout",
     "output_type": "stream",
     "text": [
      "0.82505\n",
      "0.826655\n",
      "0.828295\n",
      "0.829095\n",
      "0.831\n",
      "0.831925\n",
      "0.832935\n",
      "0.833575\n"
     ]
    },
    {
     "name": "stderr",
     "output_type": "stream",
     "text": [
      "/home/romain/.local/lib/python3.5/site-packages/ipykernel/__main__.py:4: RuntimeWarning: overflow encountered in exp\n"
     ]
    },
    {
     "name": "stdout",
     "output_type": "stream",
     "text": [
      "0.834155\n",
      "0.83477\n",
      "0.834845\n"
     ]
    }
   ],
   "source": [
    "theta=irls(tX,y)"
   ]
  },
  {
   "cell_type": "code",
   "execution_count": 15,
   "metadata": {
    "collapsed": false
   },
   "outputs": [],
   "source": [
    "DATA_TEST_PATH = 'test.csv' # TODO: download train data and supply path here \n",
    "_, tX_test, ids_test = load_csv_data(DATA_TEST_PATH)"
   ]
  },
  {
   "cell_type": "code",
   "execution_count": 16,
   "metadata": {
    "collapsed": false
   },
   "outputs": [
    {
     "ename": "MemoryError",
     "evalue": "",
     "output_type": "error",
     "traceback": [
      "\u001b[0;31m---------------------------------------------------------------------------\u001b[0m",
      "\u001b[0;31mMemoryError\u001b[0m                               Traceback (most recent call last)",
      "\u001b[0;32m<ipython-input-16-44b275059df8>\u001b[0m in \u001b[0;36m<module>\u001b[0;34m()\u001b[0m\n\u001b[1;32m     47\u001b[0m \u001b[0;31m#stdev=np.nanstd(centered_mat,axis=0);\u001b[0m\u001b[0;34m\u001b[0m\u001b[0;34m\u001b[0m\u001b[0m\n\u001b[1;32m     48\u001b[0m \u001b[0;31m#centered_mat[centered_mat==float('nan')]=0\u001b[0m\u001b[0;34m\u001b[0m\u001b[0;34m\u001b[0m\u001b[0m\n\u001b[0;32m---> 49\u001b[0;31m \u001b[0mstandardized_testmat\u001b[0m\u001b[0;34m=\u001b[0m\u001b[0mcentered_mat\u001b[0m \u001b[0;34m/\u001b[0m \u001b[0mstdev\u001b[0m\u001b[0;34m\u001b[0m\u001b[0m\n\u001b[0m\u001b[1;32m     50\u001b[0m \u001b[0;34m\u001b[0m\u001b[0m\n\u001b[1;32m     51\u001b[0m \u001b[0;31m#tao=int(d*(d+1)/2+d)\u001b[0m\u001b[0;34m\u001b[0m\u001b[0;34m\u001b[0m\u001b[0m\n",
      "\u001b[0;31mMemoryError\u001b[0m: "
     ]
    }
   ],
   "source": [
    "weights=theta\n",
    "testx=tX_test\n",
    "#testx=np.delete(testx,[14,15,17,18,24,25,27,28],axis=1)\n",
    "testx[testx==-999]=0\n",
    "#m2=np.mean(testx,axis=0)\n",
    "centered_testx=testx-m\n",
    "centered_testx[testx==-999]=0\n",
    "#standardized_testx=centered_testx / np.std(centered_testx, axis=0)\n",
    "#centered_testx[centered_testx==0]=float('nan')\n",
    "#stdevtest=np.nanstd(centered_testx,axis=0);\n",
    "#centered_testx[centered_testx==float('nan')]=0\n",
    "standardized_testx=centered_testx / stdevtrain\n",
    "\n",
    "d=len(standardized_testx[0])\n",
    "n=len(standardized_testx)\n",
    "new_dims=0\n",
    "#for t in range (1,d+1):\n",
    "#    new_dims=new_dims+t*(t+1)/2\n",
    "mat=np.zeros((n,new_dims+int(d*(d+1)/2+d)))\n",
    "q=0\n",
    "tao=d \n",
    "\n",
    "for i in range (n):\n",
    "    for t in range (d):  \n",
    "        mat[i,t]=standardized_testx[i,t]\n",
    "\n",
    "        \n",
    "for i in range (n):\n",
    "    for mk in range (d):\n",
    "        for t in range (mk,d): \n",
    "            mat[i,tao]=standardized_testx[i,t]*standardized_testx[i,q]\n",
    "            tao=tao+1\n",
    "        q=q+1    \n",
    "    tao=d  \n",
    "    q=0\n",
    "    \n",
    "    \n",
    "for t in range (3,11):\n",
    "    for i in range (30):\n",
    "        mat=np.column_stack((mat,standardized_testx[:,i]**t))\n",
    "\n",
    "\n",
    "centered_mat=mat-m2\n",
    "centered_mat[mat==0]=0\n",
    "\n",
    "#centered_mat[centered_mat==0]=float('nan')\n",
    "#stdev=np.nanstd(centered_mat,axis=0);\n",
    "#centered_mat[centered_mat==float('nan')]=0\n",
    "standardized_testmat=centered_mat / stdev\n",
    "\n",
    "#tao=int(d*(d+1)/2+d)\n",
    "    \n",
    "#for i in range (n):\n",
    "#    for r in range (d):\n",
    "#        for monsoon in range (r,d):\n",
    "#            for t in range (monsoon,d): \n",
    "#                mat[i,tao]=standardized_tX[i,t]*standardized_tX[i,monsoon]*standardized_tX[i,r]\n",
    "#                tao=tao+1\n",
    "#    tao=int(d*(d+1)/2+d)  \n",
    "    \n",
    "num_samples=len(standardized_testmat)\n",
    "final_testx = np.c_[np.ones(num_samples), standardized_testmat]\n",
    "tX_test=final_testx"
   ]
  },
  {
   "cell_type": "code",
   "execution_count": 13,
   "metadata": {
    "collapsed": true
   },
   "outputs": [],
   "source": [
    "OUTPUT_PATH = '/Users/alperkose/Desktop/deneme8.csv' # TODO: fill in desired name of output file for submission\n",
    "y_pred = -predict_labels(weights, tX_test)\n",
    "create_csv_submission(ids_test, y_pred, OUTPUT_PATH)"
   ]
  }
 ],
 "metadata": {
  "anaconda-cloud": {},
  "kernelspec": {
   "display_name": "Python 3",
   "language": "python",
   "name": "python3"
  },
  "language_info": {
   "codemirror_mode": {
    "name": "ipython",
    "version": 3
   },
   "file_extension": ".py",
   "mimetype": "text/x-python",
   "name": "python",
   "nbconvert_exporter": "python",
   "pygments_lexer": "ipython3",
   "version": "3.5.2"
  }
 },
 "nbformat": 4,
 "nbformat_minor": 0
}
